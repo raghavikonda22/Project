{
  "nbformat": 4,
  "nbformat_minor": 0,
  "metadata": {
    "colab": {
      "provenance": []
    },
    "kernelspec": {
      "name": "python3",
      "display_name": "Python 3"
    },
    "language_info": {
      "name": "python"
    }
  },
  "cells": [
    {
      "cell_type": "code",
      "execution_count": null,
      "metadata": {
        "id": "hhkflNoLMTNI"
      },
      "outputs": [],
      "source": [
        "import pandas as pd\n",
        "import numpy as np"
      ]
    },
    {
      "cell_type": "code",
      "source": [
        "from sklearn.model_selection import train_test_split\n",
        "from sklearn.preprocessing import StandardScaler\n",
        "from sklearn.linear_model import LogisticRegression"
      ],
      "metadata": {
        "id": "5nTkGSbfMbJL"
      },
      "execution_count": null,
      "outputs": []
    },
    {
      "cell_type": "code",
      "source": [
        "# load the dataset\n",
        "data = pd.read_csv(\"/content/data.csv\")\n",
        "# preprocessing\n",
        "if 'CycleNumber' in data.columns:\n",
        "    data.drop(['ClientID', 'CycleNumber'], axis=1, inplace=True)\n",
        "else:\n",
        "    data.drop('ClientID', axis=1, inplace=True)\n",
        "# Replace empty strings with NaN values\n",
        "data = data.replace('', np.nan)"
      ],
      "metadata": {
        "id": "RHucTrACMdMR"
      },
      "execution_count": null,
      "outputs": []
    },
    {
      "cell_type": "code",
      "source": [
        "# Convert all columns to numeric data type\n",
        "data = data.apply(pd.to_numeric)\n",
        "\n",
        "# Get the features and target variable\n",
        "X = data.iloc[:, :-1].values\n",
        "y = data.iloc[:, -1].values\n",
        "\n",
        "# Scale the features\n",
        "scaler = StandardScaler()\n",
        "X = scaler.fit_transform(X)\n",
        "X_train, X_test, y_train, y_test = train_test_split(X, y, test_size=0.3, random_state=42)\n",
        "\n",
        "# fit the model\n",
        "clf = LogisticRegression()\n",
        "clf.fit(X_train, y_train)"
      ],
      "metadata": {
        "colab": {
          "base_uri": "https://localhost:8080/",
          "height": 251
        },
        "id": "RcNqyR_GMg5p",
        "outputId": "3343e295-961e-4a7b-fba5-f9354b78fadf"
      },
      "execution_count": null,
      "outputs": [
        {
          "output_type": "stream",
          "name": "stderr",
          "text": [
            "/usr/local/lib/python3.9/dist-packages/sklearn/linear_model/_logistic.py:458: ConvergenceWarning: lbfgs failed to converge (status=1):\n",
            "STOP: TOTAL NO. of ITERATIONS REACHED LIMIT.\n",
            "\n",
            "Increase the number of iterations (max_iter) or scale the data as shown in:\n",
            "    https://scikit-learn.org/stable/modules/preprocessing.html\n",
            "Please also refer to the documentation for alternative solver options:\n",
            "    https://scikit-learn.org/stable/modules/linear_model.html#logistic-regression\n",
            "  n_iter_i = _check_optimize_result(\n"
          ]
        },
        {
          "output_type": "execute_result",
          "data": {
            "text/plain": [
              "LogisticRegression()"
            ],
            "text/html": [
              "<style>#sk-container-id-2 {color: black;background-color: white;}#sk-container-id-2 pre{padding: 0;}#sk-container-id-2 div.sk-toggleable {background-color: white;}#sk-container-id-2 label.sk-toggleable__label {cursor: pointer;display: block;width: 100%;margin-bottom: 0;padding: 0.3em;box-sizing: border-box;text-align: center;}#sk-container-id-2 label.sk-toggleable__label-arrow:before {content: \"▸\";float: left;margin-right: 0.25em;color: #696969;}#sk-container-id-2 label.sk-toggleable__label-arrow:hover:before {color: black;}#sk-container-id-2 div.sk-estimator:hover label.sk-toggleable__label-arrow:before {color: black;}#sk-container-id-2 div.sk-toggleable__content {max-height: 0;max-width: 0;overflow: hidden;text-align: left;background-color: #f0f8ff;}#sk-container-id-2 div.sk-toggleable__content pre {margin: 0.2em;color: black;border-radius: 0.25em;background-color: #f0f8ff;}#sk-container-id-2 input.sk-toggleable__control:checked~div.sk-toggleable__content {max-height: 200px;max-width: 100%;overflow: auto;}#sk-container-id-2 input.sk-toggleable__control:checked~label.sk-toggleable__label-arrow:before {content: \"▾\";}#sk-container-id-2 div.sk-estimator input.sk-toggleable__control:checked~label.sk-toggleable__label {background-color: #d4ebff;}#sk-container-id-2 div.sk-label input.sk-toggleable__control:checked~label.sk-toggleable__label {background-color: #d4ebff;}#sk-container-id-2 input.sk-hidden--visually {border: 0;clip: rect(1px 1px 1px 1px);clip: rect(1px, 1px, 1px, 1px);height: 1px;margin: -1px;overflow: hidden;padding: 0;position: absolute;width: 1px;}#sk-container-id-2 div.sk-estimator {font-family: monospace;background-color: #f0f8ff;border: 1px dotted black;border-radius: 0.25em;box-sizing: border-box;margin-bottom: 0.5em;}#sk-container-id-2 div.sk-estimator:hover {background-color: #d4ebff;}#sk-container-id-2 div.sk-parallel-item::after {content: \"\";width: 100%;border-bottom: 1px solid gray;flex-grow: 1;}#sk-container-id-2 div.sk-label:hover label.sk-toggleable__label {background-color: #d4ebff;}#sk-container-id-2 div.sk-serial::before {content: \"\";position: absolute;border-left: 1px solid gray;box-sizing: border-box;top: 0;bottom: 0;left: 50%;z-index: 0;}#sk-container-id-2 div.sk-serial {display: flex;flex-direction: column;align-items: center;background-color: white;padding-right: 0.2em;padding-left: 0.2em;position: relative;}#sk-container-id-2 div.sk-item {position: relative;z-index: 1;}#sk-container-id-2 div.sk-parallel {display: flex;align-items: stretch;justify-content: center;background-color: white;position: relative;}#sk-container-id-2 div.sk-item::before, #sk-container-id-2 div.sk-parallel-item::before {content: \"\";position: absolute;border-left: 1px solid gray;box-sizing: border-box;top: 0;bottom: 0;left: 50%;z-index: -1;}#sk-container-id-2 div.sk-parallel-item {display: flex;flex-direction: column;z-index: 1;position: relative;background-color: white;}#sk-container-id-2 div.sk-parallel-item:first-child::after {align-self: flex-end;width: 50%;}#sk-container-id-2 div.sk-parallel-item:last-child::after {align-self: flex-start;width: 50%;}#sk-container-id-2 div.sk-parallel-item:only-child::after {width: 0;}#sk-container-id-2 div.sk-dashed-wrapped {border: 1px dashed gray;margin: 0 0.4em 0.5em 0.4em;box-sizing: border-box;padding-bottom: 0.4em;background-color: white;}#sk-container-id-2 div.sk-label label {font-family: monospace;font-weight: bold;display: inline-block;line-height: 1.2em;}#sk-container-id-2 div.sk-label-container {text-align: center;}#sk-container-id-2 div.sk-container {/* jupyter's `normalize.less` sets `[hidden] { display: none; }` but bootstrap.min.css set `[hidden] { display: none !important; }` so we also need the `!important` here to be able to override the default hidden behavior on the sphinx rendered scikit-learn.org. See: https://github.com/scikit-learn/scikit-learn/issues/21755 */display: inline-block !important;position: relative;}#sk-container-id-2 div.sk-text-repr-fallback {display: none;}</style><div id=\"sk-container-id-2\" class=\"sk-top-container\"><div class=\"sk-text-repr-fallback\"><pre>LogisticRegression()</pre><b>In a Jupyter environment, please rerun this cell to show the HTML representation or trust the notebook. <br />On GitHub, the HTML representation is unable to render, please try loading this page with nbviewer.org.</b></div><div class=\"sk-container\" hidden><div class=\"sk-item\"><div class=\"sk-estimator sk-toggleable\"><input class=\"sk-toggleable__control sk-hidden--visually\" id=\"sk-estimator-id-2\" type=\"checkbox\" checked><label for=\"sk-estimator-id-2\" class=\"sk-toggleable__label sk-toggleable__label-arrow\">LogisticRegression</label><div class=\"sk-toggleable__content\"><pre>LogisticRegression()</pre></div></div></div></div></div>"
            ]
          },
          "metadata": {},
          "execution_count": 20
        }
      ]
    },
    {
      "cell_type": "code",
      "source": [
        "import pickle"
      ],
      "metadata": {
        "id": "OxSlCwROgFBU"
      },
      "execution_count": null,
      "outputs": []
    },
    {
      "cell_type": "code",
      "source": [
        "filename = 'finalized_model.sav'\n",
        "pickle.dump(clf, open(filename, 'wb'))"
      ],
      "metadata": {
        "id": "uJILV0dXdB8N"
      },
      "execution_count": null,
      "outputs": []
    },
    {
      "cell_type": "code",
      "source": [
        "data.head();"
      ],
      "metadata": {
        "colab": {
          "base_uri": "https://localhost:8080/",
          "height": 292
        },
        "id": "2hCrFlEHOKLO",
        "outputId": "4eaf988d-6642-4f09-a59e-b7611f66532c"
      },
      "execution_count": null,
      "outputs": [
        {
          "output_type": "execute_result",
          "data": {
            "text/plain": [
              "   Group  CycleWithPeakorNot  ReproductiveCategory  LengthofCycle  \\\n",
              "0      0                   1                     0             29   \n",
              "1      0                   1                     0             27   \n",
              "2      0                   1                     0             29   \n",
              "3      0                   1                     0             27   \n",
              "4      0                   1                     0             28   \n",
              "\n",
              "   EstimatedDayofOvulation  LengthofLutealPhase  TotalDaysofFertility  \\\n",
              "0                       17                   12                     9   \n",
              "1                       15                   12                     6   \n",
              "2                       15                   14                     5   \n",
              "3                       15                   12                     6   \n",
              "4                       16                   12                     8   \n",
              "\n",
              "   TotalFertilityFormula  LengthofMenses  \n",
              "0                     15               5  \n",
              "1                     13               5  \n",
              "2                     13               5  \n",
              "3                     13               5  \n",
              "4                     14               5  "
            ],
            "text/html": [
              "\n",
              "  <div id=\"df-c5bbd60d-b0c0-44bf-b240-ad0bb2a70477\">\n",
              "    <div class=\"colab-df-container\">\n",
              "      <div>\n",
              "<style scoped>\n",
              "    .dataframe tbody tr th:only-of-type {\n",
              "        vertical-align: middle;\n",
              "    }\n",
              "\n",
              "    .dataframe tbody tr th {\n",
              "        vertical-align: top;\n",
              "    }\n",
              "\n",
              "    .dataframe thead th {\n",
              "        text-align: right;\n",
              "    }\n",
              "</style>\n",
              "<table border=\"1\" class=\"dataframe\">\n",
              "  <thead>\n",
              "    <tr style=\"text-align: right;\">\n",
              "      <th></th>\n",
              "      <th>Group</th>\n",
              "      <th>CycleWithPeakorNot</th>\n",
              "      <th>ReproductiveCategory</th>\n",
              "      <th>LengthofCycle</th>\n",
              "      <th>EstimatedDayofOvulation</th>\n",
              "      <th>LengthofLutealPhase</th>\n",
              "      <th>TotalDaysofFertility</th>\n",
              "      <th>TotalFertilityFormula</th>\n",
              "      <th>LengthofMenses</th>\n",
              "    </tr>\n",
              "  </thead>\n",
              "  <tbody>\n",
              "    <tr>\n",
              "      <th>0</th>\n",
              "      <td>0</td>\n",
              "      <td>1</td>\n",
              "      <td>0</td>\n",
              "      <td>29</td>\n",
              "      <td>17</td>\n",
              "      <td>12</td>\n",
              "      <td>9</td>\n",
              "      <td>15</td>\n",
              "      <td>5</td>\n",
              "    </tr>\n",
              "    <tr>\n",
              "      <th>1</th>\n",
              "      <td>0</td>\n",
              "      <td>1</td>\n",
              "      <td>0</td>\n",
              "      <td>27</td>\n",
              "      <td>15</td>\n",
              "      <td>12</td>\n",
              "      <td>6</td>\n",
              "      <td>13</td>\n",
              "      <td>5</td>\n",
              "    </tr>\n",
              "    <tr>\n",
              "      <th>2</th>\n",
              "      <td>0</td>\n",
              "      <td>1</td>\n",
              "      <td>0</td>\n",
              "      <td>29</td>\n",
              "      <td>15</td>\n",
              "      <td>14</td>\n",
              "      <td>5</td>\n",
              "      <td>13</td>\n",
              "      <td>5</td>\n",
              "    </tr>\n",
              "    <tr>\n",
              "      <th>3</th>\n",
              "      <td>0</td>\n",
              "      <td>1</td>\n",
              "      <td>0</td>\n",
              "      <td>27</td>\n",
              "      <td>15</td>\n",
              "      <td>12</td>\n",
              "      <td>6</td>\n",
              "      <td>13</td>\n",
              "      <td>5</td>\n",
              "    </tr>\n",
              "    <tr>\n",
              "      <th>4</th>\n",
              "      <td>0</td>\n",
              "      <td>1</td>\n",
              "      <td>0</td>\n",
              "      <td>28</td>\n",
              "      <td>16</td>\n",
              "      <td>12</td>\n",
              "      <td>8</td>\n",
              "      <td>14</td>\n",
              "      <td>5</td>\n",
              "    </tr>\n",
              "  </tbody>\n",
              "</table>\n",
              "</div>\n",
              "      <button class=\"colab-df-convert\" onclick=\"convertToInteractive('df-c5bbd60d-b0c0-44bf-b240-ad0bb2a70477')\"\n",
              "              title=\"Convert this dataframe to an interactive table.\"\n",
              "              style=\"display:none;\">\n",
              "        \n",
              "  <svg xmlns=\"http://www.w3.org/2000/svg\" height=\"24px\"viewBox=\"0 0 24 24\"\n",
              "       width=\"24px\">\n",
              "    <path d=\"M0 0h24v24H0V0z\" fill=\"none\"/>\n",
              "    <path d=\"M18.56 5.44l.94 2.06.94-2.06 2.06-.94-2.06-.94-.94-2.06-.94 2.06-2.06.94zm-11 1L8.5 8.5l.94-2.06 2.06-.94-2.06-.94L8.5 2.5l-.94 2.06-2.06.94zm10 10l.94 2.06.94-2.06 2.06-.94-2.06-.94-.94-2.06-.94 2.06-2.06.94z\"/><path d=\"M17.41 7.96l-1.37-1.37c-.4-.4-.92-.59-1.43-.59-.52 0-1.04.2-1.43.59L10.3 9.45l-7.72 7.72c-.78.78-.78 2.05 0 2.83L4 21.41c.39.39.9.59 1.41.59.51 0 1.02-.2 1.41-.59l7.78-7.78 2.81-2.81c.8-.78.8-2.07 0-2.86zM5.41 20L4 18.59l7.72-7.72 1.47 1.35L5.41 20z\"/>\n",
              "  </svg>\n",
              "      </button>\n",
              "      \n",
              "  <style>\n",
              "    .colab-df-container {\n",
              "      display:flex;\n",
              "      flex-wrap:wrap;\n",
              "      gap: 12px;\n",
              "    }\n",
              "\n",
              "    .colab-df-convert {\n",
              "      background-color: #E8F0FE;\n",
              "      border: none;\n",
              "      border-radius: 50%;\n",
              "      cursor: pointer;\n",
              "      display: none;\n",
              "      fill: #1967D2;\n",
              "      height: 32px;\n",
              "      padding: 0 0 0 0;\n",
              "      width: 32px;\n",
              "    }\n",
              "\n",
              "    .colab-df-convert:hover {\n",
              "      background-color: #E2EBFA;\n",
              "      box-shadow: 0px 1px 2px rgba(60, 64, 67, 0.3), 0px 1px 3px 1px rgba(60, 64, 67, 0.15);\n",
              "      fill: #174EA6;\n",
              "    }\n",
              "\n",
              "    [theme=dark] .colab-df-convert {\n",
              "      background-color: #3B4455;\n",
              "      fill: #D2E3FC;\n",
              "    }\n",
              "\n",
              "    [theme=dark] .colab-df-convert:hover {\n",
              "      background-color: #434B5C;\n",
              "      box-shadow: 0px 1px 3px 1px rgba(0, 0, 0, 0.15);\n",
              "      filter: drop-shadow(0px 1px 2px rgba(0, 0, 0, 0.3));\n",
              "      fill: #FFFFFF;\n",
              "    }\n",
              "  </style>\n",
              "\n",
              "      <script>\n",
              "        const buttonEl =\n",
              "          document.querySelector('#df-c5bbd60d-b0c0-44bf-b240-ad0bb2a70477 button.colab-df-convert');\n",
              "        buttonEl.style.display =\n",
              "          google.colab.kernel.accessAllowed ? 'block' : 'none';\n",
              "\n",
              "        async function convertToInteractive(key) {\n",
              "          const element = document.querySelector('#df-c5bbd60d-b0c0-44bf-b240-ad0bb2a70477');\n",
              "          const dataTable =\n",
              "            await google.colab.kernel.invokeFunction('convertToInteractive',\n",
              "                                                     [key], {});\n",
              "          if (!dataTable) return;\n",
              "\n",
              "          const docLinkHtml = 'Like what you see? Visit the ' +\n",
              "            '<a target=\"_blank\" href=https://colab.research.google.com/notebooks/data_table.ipynb>data table notebook</a>'\n",
              "            + ' to learn more about interactive tables.';\n",
              "          element.innerHTML = '';\n",
              "          dataTable['output_type'] = 'display_data';\n",
              "          await google.colab.output.renderOutput(dataTable, element);\n",
              "          const docLink = document.createElement('div');\n",
              "          docLink.innerHTML = docLinkHtml;\n",
              "          element.appendChild(docLink);\n",
              "        }\n",
              "      </script>\n",
              "    </div>\n",
              "  </div>\n",
              "  "
            ]
          },
          "metadata": {},
          "execution_count": 15
        }
      ]
    },
    {
      "cell_type": "code",
      "source": [
        "y_pred = clf.predict(X_test);"
      ],
      "metadata": {
        "id": "PZigjpoFMuYN"
      },
      "execution_count": null,
      "outputs": []
    },
    {
      "cell_type": "code",
      "source": [
        "print(y_pred)"
      ],
      "metadata": {
        "colab": {
          "base_uri": "https://localhost:8080/"
        },
        "id": "_QPNblpLNZkS",
        "outputId": "ec3a189f-bb64-48ef-8b21-75590be7ab00"
      },
      "execution_count": null,
      "outputs": [
        {
          "output_type": "stream",
          "name": "stdout",
          "text": [
            "[ 5  6  5  4  6  5  4  5  4  5  6  6  5  5  5  5  6  5  5  4  5  5  5  6\n",
            "  6  5  5  5  5  6  5  5  5  5  5  6  5  5  5  5  6  4  5  7  5  5  5  4\n",
            "  5  5  6  6  5  5  5  6  6  5  5  6  5  6  5  6  5  5  5  5  5  4  5  5\n",
            "  5  9  5  5  5  5  5  5  6  5  5  6  6  5  5  6  5  5  4  5  5  5  5  6\n",
            "  6  5  6  6  5  6  6  5  5  5  5  6  5  6  5  6  5  5  6  5  5  5  5  6\n",
            "  6  5  5  5  5  5  5  6  5  5  5  6  5  5  5  5  5  5  6  6  5  5  5  5\n",
            "  5  5  5  5  6  6  5  6  5  5  5  5  6  5  6  6  5  5  5  6  5  6  5  5\n",
            "  5  5  5  6  5  6  5  4  6  5  6  6  5  5  5  5  5  5  5  5  5  5  5  5\n",
            "  6  5  5  6  5  5  5  6  5  5  5  5 15  6  5  6  5  5  5  5  4  5  4  6\n",
            "  5  6  5  5  5  5 15  5  6  5  7  6  5  5  5  5  5  6  6  5  5  4  5  5\n",
            "  5  5  5  5  5  6  5  5  5  5  5  5  5  6  6  5  5  5  6  5  5  5  5  6\n",
            "  5  5  6  4  5  5  6  5  5  5  5  5  5  5  5  5  9  5  5  5  5  5  6  5\n",
            "  6  5  6  5  5  6  5  6  5  5  5  5  5  5  5  5  6  6  6  5  5  6  5  5\n",
            "  6  5  5  5  6  5  5  6  5  5  4  5  6  5  5  5  5  6  5  6  5  4  5  5\n",
            "  5  5  5  6  5  4  6  5  5  5  6  6  5  5  5  5  5  6  5  5  4  5  5  5\n",
            "  5  5  5  6  5  5  6  6  5  5  6  5  5  5  5  5  5  6  5  4  5  5  5  6\n",
            "  5  4  5  5  5  5  5  6  5  5  5  5  5  5  5  6  4  6  5  5  5  6  5  6\n",
            "  5  4  5  5  5  6  5  5  5  5  5  4  5  5  5  5  4  5  5  6  6  5  6  6\n",
            "  5  5  5  5  5  5  5  4  5  5  6  4  5  5  5  5  6  5  5  5  5  5  4  5\n",
            "  6  5  5  6  6  5  6  5  5  5  7  6  6  5  6  5  5  5  5  5  5  5  5  5\n",
            "  5  5  5  5  6  6  4  5  5  5  5  5  5  6  4  5  5  6  5  4]\n"
          ]
        }
      ]
    },
    {
      "cell_type": "code",
      "source": [
        "print(y_test)"
      ],
      "metadata": {
        "colab": {
          "base_uri": "https://localhost:8080/"
        },
        "id": "USjhUIcXNfuf",
        "outputId": "984e508b-3e9e-4da6-8a2a-a867f7d632b7"
      },
      "execution_count": null,
      "outputs": [
        {
          "output_type": "stream",
          "name": "stdout",
          "text": [
            "[ 4  5  4  5  7  6  4  5  4  4  7  5  5  5  5  5  6  7  6  7  5  5  5  6\n",
            "  7  5  6  7  5  5  4  4  6  5  5  5  5  8  4  4  7  6  3  7  6  6  5  5\n",
            "  6  6  6  6  4  5  4  6  5  5  4  4  8  8  5  4  4  4  6  6  4  4  4  6\n",
            "  5  7  4  5  6  6  7  5  7  6  3  5  7  5  4  6  6  7  4  4  5  5  5  5\n",
            "  6  5  6  8  5  7  5  4  5  4  6  5  4  7  5  4  5  5  5  5  7  5  6  7\n",
            "  5  6  5  4  4  5  4  6  4  5  5  5  5  5  4  5  5  5  6  6  4  5  4  6\n",
            "  5  7  6  5  3  5  5  7  5  5  5  7  5  5  5  7  5  5  5  4  7  7  6  3\n",
            "  5  5  5  5  6  4  5  6 10  4  6  6  4  7  5  5  4  5  4  6  4  3  5  5\n",
            "  4  7  4  7  6  5  4  5  5  4  5  7  5  4  6  6  5  6  5  4  4  3  5  7\n",
            "  6  6  4  6  6  3  4  4  4  5  7  6  5  6  4  6  3  6  6  4  2  2  4  7\n",
            "  5  6  5  5  5  9  6  6  4  4  4  5  4  2  7  6  5  6  6  6  7  5  5  7\n",
            "  5  4  6  6  4  5  5  5  6  6  5  4  2  4  4  6  8  4  6  5  4  6  6  5\n",
            "  6  4  5  6  7  6  6  6  5  7  5  5  5  5  5  3  6  6  4  5  5  6  3  5\n",
            "  7  5  6  4  6  5  5  4  6  5  3  5  5  4  5  6  6  4  3  3  7  5  6  6\n",
            "  5  5  7  5  5  5  6  5  5  5  6  6  6  6  5  5  4  6  6  8  4  4  4  5\n",
            "  5  5  6  7  5  4  7  4  5  5  6  5  5  6  6  4  6  4  5  5  5  4  6 10\n",
            "  4  6  5  5  5  7  5  6  4  4  9  5  5  3  6  8  5  4  5  7  4  7  4  6\n",
            "  3  5  7  5  5  6  3  6  5  7  3  5  6  7  6  5  4  5  5  4  5  6  7  7\n",
            "  7  3  6  5  7  6  6  5  6  5  5  4  5  6  7  6  4  5  5  7  5  5  4  5\n",
            "  5  5  4  7  6  6  4  4  4  5  7  5  6  5  6  5  6  5  4  3  6  6  6  6\n",
            "  6  6  5  5  4  6  5  6  4  5  3  5  4  9  5  7  5  5  6  5]\n"
          ]
        }
      ]
    },
    {
      "cell_type": "code",
      "source": [
        "from sklearn.metrics import accuracy_score"
      ],
      "metadata": {
        "id": "7e2peM4MM-d9"
      },
      "execution_count": null,
      "outputs": []
    },
    {
      "cell_type": "code",
      "source": [
        "print(accuracy_score(y_test,y_pred)*100)"
      ],
      "metadata": {
        "colab": {
          "base_uri": "https://localhost:8080/"
        },
        "id": "F6XfJJKSNIeu",
        "outputId": "840ba8b1-988c-48a4-9b7c-39eee8c189c3"
      },
      "execution_count": null,
      "outputs": [
        {
          "output_type": "stream",
          "name": "stdout",
          "text": [
            "39.6\n"
          ]
        }
      ]
    },
    {
      "cell_type": "code",
      "source": [],
      "metadata": {
        "id": "QQfdV4vylS8I"
      },
      "execution_count": null,
      "outputs": []
    },
    {
      "cell_type": "code",
      "source": [
        "print(X_test)"
      ],
      "metadata": {
        "colab": {
          "base_uri": "https://localhost:8080/"
        },
        "id": "-EKeaTNilSyi",
        "outputId": "9a014ed8-2711-4683-b7f5-056104c170b7"
      },
      "execution_count": null,
      "outputs": [
        {
          "output_type": "stream",
          "name": "stdout",
          "text": [
            "[[-0.78717838  0.31002559 -0.11522021 ... -0.08708126  0.02938985\n",
            "  -0.06816691]\n",
            " [ 1.27036009  0.31002559 -0.11522021 ... -0.08708126 -0.87679731\n",
            "  -1.32090317]\n",
            " [-0.78717838  0.31002559 -0.11522021 ... -0.60032122 -0.27267253\n",
            "  -0.06816691]\n",
            " ...\n",
            " [ 1.27036009  0.31002559 -0.11522021 ... -0.60032122  1.84176419\n",
            "   1.68566386]\n",
            " [-0.78717838 -3.2255402  -0.11522021 ... -2.39666109 -2.38710926\n",
            "   0.4329276 ]\n",
            " [-0.78717838  0.31002559 -0.11522021 ... -2.39666109  0.63351463\n",
            "   0.4329276 ]]\n"
          ]
        }
      ]
    },
    {
      "cell_type": "code",
      "source": [
        "# load the model from disk\n",
        "loaded_model = pickle.load(open(filename, 'rb'))\n",
        "result = loaded_model.predict(X_test)\n",
        "print(result);"
      ],
      "metadata": {
        "colab": {
          "base_uri": "https://localhost:8080/"
        },
        "id": "1zDBjngiNL7C",
        "outputId": "5b5db336-2c4f-492c-f97a-37c382b4ea81"
      },
      "execution_count": null,
      "outputs": [
        {
          "output_type": "stream",
          "name": "stdout",
          "text": [
            "[ 5  6  5  4  6  5  4  5  4  5  6  6  5  5  5  5  6  5  5  4  5  5  5  6\n",
            "  6  5  5  5  5  6  5  5  5  5  5  6  5  5  5  5  6  4  5  7  5  5  5  4\n",
            "  5  5  6  6  5  5  5  6  6  5  5  6  5  6  5  6  5  5  5  5  5  4  5  5\n",
            "  5  9  5  5  5  5  5  5  6  5  5  6  6  5  5  6  5  5  4  5  5  5  5  6\n",
            "  6  5  6  6  5  6  6  5  5  5  5  6  5  6  5  6  5  5  6  5  5  5  5  6\n",
            "  6  5  5  5  5  5  5  6  5  5  5  6  5  5  5  5  5  5  6  6  5  5  5  5\n",
            "  5  5  5  5  6  6  5  6  5  5  5  5  6  5  6  6  5  5  5  6  5  6  5  5\n",
            "  5  5  5  6  5  6  5  4  6  5  6  6  5  5  5  5  5  5  5  5  5  5  5  5\n",
            "  6  5  5  6  5  5  5  6  5  5  5  5 15  6  5  6  5  5  5  5  4  5  4  6\n",
            "  5  6  5  5  5  5 15  5  6  5  7  6  5  5  5  5  5  6  6  5  5  4  5  5\n",
            "  5  5  5  5  5  6  5  5  5  5  5  5  5  6  6  5  5  5  6  5  5  5  5  6\n",
            "  5  5  6  4  5  5  6  5  5  5  5  5  5  5  5  5  9  5  5  5  5  5  6  5\n",
            "  6  5  6  5  5  6  5  6  5  5  5  5  5  5  5  5  6  6  6  5  5  6  5  5\n",
            "  6  5  5  5  6  5  5  6  5  5  4  5  6  5  5  5  5  6  5  6  5  4  5  5\n",
            "  5  5  5  6  5  4  6  5  5  5  6  6  5  5  5  5  5  6  5  5  4  5  5  5\n",
            "  5  5  5  6  5  5  6  6  5  5  6  5  5  5  5  5  5  6  5  4  5  5  5  6\n",
            "  5  4  5  5  5  5  5  6  5  5  5  5  5  5  5  6  4  6  5  5  5  6  5  6\n",
            "  5  4  5  5  5  6  5  5  5  5  5  4  5  5  5  5  4  5  5  6  6  5  6  6\n",
            "  5  5  5  5  5  5  5  4  5  5  6  4  5  5  5  5  6  5  5  5  5  5  4  5\n",
            "  6  5  5  6  6  5  6  5  5  5  7  6  6  5  6  5  5  5  5  5  5  5  5  5\n",
            "  5  5  5  5  6  6  4  5  5  5  5  5  5  6  4  5  5  6  5  4]\n"
          ]
        }
      ]
    },
    {
      "cell_type": "code",
      "source": [
        "import datetime"
      ],
      "metadata": {
        "id": "1CUXEu5zh3UR"
      },
      "execution_count": null,
      "outputs": []
    },
    {
      "cell_type": "code",
      "source": [
        "start_date = datetime.date(2023, 4, 15);"
      ],
      "metadata": {
        "id": "D-3ahaTLPV3m"
      },
      "execution_count": null,
      "outputs": []
    },
    {
      "cell_type": "code",
      "source": [
        "print(start_date+datetime.timedelta(days=10));"
      ],
      "metadata": {
        "colab": {
          "base_uri": "https://localhost:8080/"
        },
        "id": "5V13yLJaPadQ",
        "outputId": "a3d59845-b02c-4b27-9c64-03bc205664ab"
      },
      "execution_count": null,
      "outputs": [
        {
          "output_type": "stream",
          "name": "stdout",
          "text": [
            "2023-04-25\n"
          ]
        }
      ]
    },
    {
      "cell_type": "code",
      "source": [],
      "metadata": {
        "id": "qtTZUZKbPrWm"
      },
      "execution_count": null,
      "outputs": []
    }
  ]
}